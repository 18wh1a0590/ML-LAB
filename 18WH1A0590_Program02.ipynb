{
  "nbformat": 4,
  "nbformat_minor": 0,
  "metadata": {
    "colab": {
      "name": "18WH1A0590_Program02.ipynb",
      "provenance": [],
      "authorship_tag": "ABX9TyOMTkOCJM8fnHQG4ggOEV4q",
      "include_colab_link": true
    },
    "kernelspec": {
      "name": "python3",
      "display_name": "Python 3"
    },
    "language_info": {
      "name": "python"
    }
  },
  "cells": [
    {
      "cell_type": "markdown",
      "metadata": {
        "id": "view-in-github",
        "colab_type": "text"
      },
      "source": [
        "<a href=\"https://colab.research.google.com/github/18wh1a0590/MachineLearning-Lab/blob/main/18WH1A0590_Program02.ipynb\" target=\"_parent\"><img src=\"https://colab.research.google.com/assets/colab-badge.svg\" alt=\"Open In Colab\"/></a>"
      ]
    },
    {
      "cell_type": "code",
      "metadata": {
        "colab": {
          "base_uri": "https://localhost:8080/"
        },
        "id": "uKlDnKPM_Slw",
        "outputId": "2bc5ca27-73dd-4565-e864-8c534f236f8b"
      },
      "source": [
        "!pip install db-sqlite3\n",
        "import sqlite3\n"
      ],
      "execution_count": 5,
      "outputs": [
        {
          "output_type": "stream",
          "text": [
            "Requirement already satisfied: db-sqlite3 in /usr/local/lib/python3.7/dist-packages (0.0.1)\n",
            "Requirement already satisfied: db in /usr/local/lib/python3.7/dist-packages (from db-sqlite3) (0.1.1)\n",
            "Requirement already satisfied: antiorm in /usr/local/lib/python3.7/dist-packages (from db->db-sqlite3) (1.2.1)\n"
          ],
          "name": "stdout"
        }
      ]
    },
    {
      "cell_type": "code",
      "metadata": {
        "colab": {
          "base_uri": "https://localhost:8080/"
        },
        "id": "8BNfZR3RAiMG",
        "outputId": "c615b453-ea0b-44ce-e9d5-2e030cb689ca"
      },
      "source": [
        "conn = sqlite3.connect ('expr.db')\n",
        "cur = conn.cursor()\n",
        "print (\"DB Created Successfully\")\n",
        "\n",
        "\n",
        "        "
      ],
      "execution_count": 11,
      "outputs": [
        {
          "output_type": "stream",
          "text": [
            "DB Created Successfully\n"
          ],
          "name": "stdout"
        }
      ]
    },
    {
      "cell_type": "code",
      "metadata": {
        "colab": {
          "base_uri": "https://localhost:8080/"
        },
        "id": "e2hoaN2RAnXV",
        "outputId": "e11dd1ff-ee6b-4be1-c185-c62bb45930b4"
      },
      "source": [
        "\n",
        "\n",
        "conn.execute('''CREATE TABLE COMPANY1\n",
        "         (ID INT PRIMARY KEY     NOT NULL,\n",
        "         NAME           TEXT    NOT NULL,\n",
        "         AGE            INT     NOT NULL,\n",
        "         ADDRESS        CHAR(50),\n",
        "         SALARY         REAL);''')\n",
        "print (\"Table created successfully\");\n",
        "\n",
        "\n",
        "\n"
      ],
      "execution_count": 12,
      "outputs": [
        {
          "output_type": "stream",
          "text": [
            "Table created successfully\n"
          ],
          "name": "stdout"
        }
      ]
    },
    {
      "cell_type": "code",
      "metadata": {
        "colab": {
          "base_uri": "https://localhost:8080/"
        },
        "id": "VtgJBqgWA0Pi",
        "outputId": "cc779784-b4b6-4d91-bc9c-115d0551ba17"
      },
      "source": [
        "conn.execute(\"INSERT INTO COMPANY1 (ID,NAME,AGE,ADDRESS,SALARY) \\\n",
        "      VALUES (1, 'Paul', 32, 'Texas', 20000.00 )\");\n",
        "\n",
        "conn.execute(\"INSERT INTO COMPANY1 (ID,NAME,AGE,ADDRESS,SALARY) \\\n",
        "      VALUES (2, 'Perry', 27, 'Houston', 15000.00 )\");\n",
        "\n",
        "conn.execute(\"INSERT INTO COMPANY1 (ID,NAME,AGE,ADDRESS,SALARY) \\\n",
        "      VALUES (3, 'Berry', 25, 'Hawai', 20000.00 )\");\n",
        "\n",
        "conn.execute(\"INSERT INTO COMPANY1 (ID,NAME,AGE,ADDRESS,SALARY) \\\n",
        "      VALUES (4, 'Terry', 31, 'Rich-Mond ', 65000.00 )\");\n",
        "\n",
        "conn.commit()\n",
        "print (\"Records created successfully\");"
      ],
      "execution_count": 14,
      "outputs": [
        {
          "output_type": "stream",
          "text": [
            "Records created successfully\n"
          ],
          "name": "stdout"
        }
      ]
    },
    {
      "cell_type": "code",
      "metadata": {
        "colab": {
          "base_uri": "https://localhost:8080/"
        },
        "id": "Aji-w30gA4GE",
        "outputId": "60331a23-a68d-41ac-97f2-acd364e340e4"
      },
      "source": [
        "for row in conn.execute('select * from COMPANY1'):\n",
        "        print(row)"
      ],
      "execution_count": 15,
      "outputs": [
        {
          "output_type": "stream",
          "text": [
            "(1, 'Paul', 32, 'Texas', 20000.0)\n",
            "(2, 'Perry', 27, 'Houston', 15000.0)\n",
            "(3, 'Berry', 25, 'Hawai', 20000.0)\n",
            "(4, 'Terry', 31, 'Rich-Mond ', 65000.0)\n"
          ],
          "name": "stdout"
        }
      ]
    }
  ]
}