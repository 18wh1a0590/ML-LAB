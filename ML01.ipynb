{
  "nbformat": 4,
  "nbformat_minor": 0,
  "metadata": {
    "colab": {
      "name": "ML01.ipynb",
      "provenance": [],
      "authorship_tag": "ABX9TyOAImkk0ptTq2wFikEj5haY",
      "include_colab_link": true
    },
    "kernelspec": {
      "name": "python3",
      "display_name": "Python 3"
    },
    "language_info": {
      "name": "python"
    }
  },
  "cells": [
    {
      "cell_type": "markdown",
      "metadata": {
        "id": "view-in-github",
        "colab_type": "text"
      },
      "source": [
        "<a href=\"https://colab.research.google.com/github/18wh1a0590/MachineLearning-Lab/blob/main/ML01.ipynb\" target=\"_parent\"><img src=\"https://colab.research.google.com/assets/colab-badge.svg\" alt=\"Open In Colab\"/></a>"
      ]
    },
    {
      "cell_type": "code",
      "metadata": {
        "colab": {
          "base_uri": "https://localhost:8080/"
        },
        "id": "0esr9mOjzUB8",
        "outputId": "62d78e9b-fb6f-4c57-b616-295f1aebc8ad"
      },
      "source": [
        "probStudAbsentAndFriday = 0.03\n",
        "probFriday =0.2\n",
        "bayesResult = (probStudAbsentAndFriday/probFriday)\n",
        "print (bayesResult *100)\n"
      ],
      "execution_count": 7,
      "outputs": [
        {
          "output_type": "stream",
          "text": [
            "15.0\n"
          ],
          "name": "stdout"
        }
      ]
    }
  ]
}